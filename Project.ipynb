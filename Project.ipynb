{
  "nbformat": 4,
  "nbformat_minor": 0,
  "metadata": {
    "colab": {
      "provenance": []
    },
    "kernelspec": {
      "name": "python3",
      "display_name": "Python 3"
    },
    "language_info": {
      "name": "python"
    },
    "widgets": {
      "application/vnd.jupyter.widget-state+json": {
        "5da85f88031f4e7f9092c1400dbfc973": {
          "model_module": "@jupyter-widgets/controls",
          "model_name": "DropdownModel",
          "model_module_version": "1.5.0",
          "state": {
            "_dom_classes": [],
            "_model_module": "@jupyter-widgets/controls",
            "_model_module_version": "1.5.0",
            "_model_name": "DropdownModel",
            "_options_labels": [
              "300000",
              "400000",
              "500000",
              "600000",
              "700000",
              "800000",
              "900000",
              "1000000",
              "1100000",
              "1200000",
              "1200000+"
            ],
            "_view_count": null,
            "_view_module": "@jupyter-widgets/controls",
            "_view_module_version": "1.5.0",
            "_view_name": "DropdownView",
            "description": "Pricing:",
            "description_tooltip": null,
            "disabled": false,
            "index": 10,
            "layout": "IPY_MODEL_d56c09d9c47f44bfa6f32a9af15e20f7",
            "style": "IPY_MODEL_5fd41fa76d744321b9436cbf3d84e6f4"
          }
        },
        "d56c09d9c47f44bfa6f32a9af15e20f7": {
          "model_module": "@jupyter-widgets/base",
          "model_name": "LayoutModel",
          "model_module_version": "1.2.0",
          "state": {
            "_model_module": "@jupyter-widgets/base",
            "_model_module_version": "1.2.0",
            "_model_name": "LayoutModel",
            "_view_count": null,
            "_view_module": "@jupyter-widgets/base",
            "_view_module_version": "1.2.0",
            "_view_name": "LayoutView",
            "align_content": null,
            "align_items": null,
            "align_self": null,
            "border": null,
            "bottom": null,
            "display": null,
            "flex": null,
            "flex_flow": null,
            "grid_area": null,
            "grid_auto_columns": null,
            "grid_auto_flow": null,
            "grid_auto_rows": null,
            "grid_column": null,
            "grid_gap": null,
            "grid_row": null,
            "grid_template_areas": null,
            "grid_template_columns": null,
            "grid_template_rows": null,
            "height": null,
            "justify_content": null,
            "justify_items": null,
            "left": null,
            "margin": null,
            "max_height": null,
            "max_width": null,
            "min_height": null,
            "min_width": null,
            "object_fit": null,
            "object_position": null,
            "order": null,
            "overflow": null,
            "overflow_x": null,
            "overflow_y": null,
            "padding": null,
            "right": null,
            "top": null,
            "visibility": null,
            "width": null
          }
        },
        "5fd41fa76d744321b9436cbf3d84e6f4": {
          "model_module": "@jupyter-widgets/controls",
          "model_name": "DescriptionStyleModel",
          "model_module_version": "1.5.0",
          "state": {
            "_model_module": "@jupyter-widgets/controls",
            "_model_module_version": "1.5.0",
            "_model_name": "DescriptionStyleModel",
            "_view_count": null,
            "_view_module": "@jupyter-widgets/base",
            "_view_module_version": "1.2.0",
            "_view_name": "StyleView",
            "description_width": ""
          }
        },
        "4f632824a7994ccab2fd476f52df6329": {
          "model_module": "@jupyter-widgets/controls",
          "model_name": "DropdownModel",
          "model_module_version": "1.5.0",
          "state": {
            "_dom_classes": [],
            "_model_module": "@jupyter-widgets/controls",
            "_model_module_version": "1.5.0",
            "_model_name": "DropdownModel",
            "_options_labels": [
              "No preference",
              "1",
              "2",
              "3",
              "4",
              "5",
              "5+"
            ],
            "_view_count": null,
            "_view_module": "@jupyter-widgets/controls",
            "_view_module_version": "1.5.0",
            "_view_name": "DropdownView",
            "description": "Bedrooms:",
            "description_tooltip": null,
            "disabled": false,
            "index": 4,
            "layout": "IPY_MODEL_a617b9ffce8b45d6b5359e4770f8a575",
            "style": "IPY_MODEL_5b3ff20112b642f1b8753744b329bc37"
          }
        },
        "a617b9ffce8b45d6b5359e4770f8a575": {
          "model_module": "@jupyter-widgets/base",
          "model_name": "LayoutModel",
          "model_module_version": "1.2.0",
          "state": {
            "_model_module": "@jupyter-widgets/base",
            "_model_module_version": "1.2.0",
            "_model_name": "LayoutModel",
            "_view_count": null,
            "_view_module": "@jupyter-widgets/base",
            "_view_module_version": "1.2.0",
            "_view_name": "LayoutView",
            "align_content": null,
            "align_items": null,
            "align_self": null,
            "border": null,
            "bottom": null,
            "display": null,
            "flex": null,
            "flex_flow": null,
            "grid_area": null,
            "grid_auto_columns": null,
            "grid_auto_flow": null,
            "grid_auto_rows": null,
            "grid_column": null,
            "grid_gap": null,
            "grid_row": null,
            "grid_template_areas": null,
            "grid_template_columns": null,
            "grid_template_rows": null,
            "height": null,
            "justify_content": null,
            "justify_items": null,
            "left": null,
            "margin": null,
            "max_height": null,
            "max_width": null,
            "min_height": null,
            "min_width": null,
            "object_fit": null,
            "object_position": null,
            "order": null,
            "overflow": null,
            "overflow_x": null,
            "overflow_y": null,
            "padding": null,
            "right": null,
            "top": null,
            "visibility": null,
            "width": null
          }
        },
        "5b3ff20112b642f1b8753744b329bc37": {
          "model_module": "@jupyter-widgets/controls",
          "model_name": "DescriptionStyleModel",
          "model_module_version": "1.5.0",
          "state": {
            "_model_module": "@jupyter-widgets/controls",
            "_model_module_version": "1.5.0",
            "_model_name": "DescriptionStyleModel",
            "_view_count": null,
            "_view_module": "@jupyter-widgets/base",
            "_view_module_version": "1.2.0",
            "_view_name": "StyleView",
            "description_width": ""
          }
        },
        "f9a0690f8acf4f92b22ba0ebc62de75f": {
          "model_module": "@jupyter-widgets/controls",
          "model_name": "DropdownModel",
          "model_module_version": "1.5.0",
          "state": {
            "_dom_classes": [],
            "_model_module": "@jupyter-widgets/controls",
            "_model_module_version": "1.5.0",
            "_model_name": "DropdownModel",
            "_options_labels": [
              "No preference",
              "1",
              "2",
              "3",
              "4",
              "5",
              "5+"
            ],
            "_view_count": null,
            "_view_module": "@jupyter-widgets/controls",
            "_view_module_version": "1.5.0",
            "_view_name": "DropdownView",
            "description": "Bathrooms:",
            "description_tooltip": null,
            "disabled": false,
            "index": 3,
            "layout": "IPY_MODEL_0cc30028e8684141bb1a8d03369562f0",
            "style": "IPY_MODEL_78d7c01cfbd04155981aeaf13a81dab9"
          }
        },
        "0cc30028e8684141bb1a8d03369562f0": {
          "model_module": "@jupyter-widgets/base",
          "model_name": "LayoutModel",
          "model_module_version": "1.2.0",
          "state": {
            "_model_module": "@jupyter-widgets/base",
            "_model_module_version": "1.2.0",
            "_model_name": "LayoutModel",
            "_view_count": null,
            "_view_module": "@jupyter-widgets/base",
            "_view_module_version": "1.2.0",
            "_view_name": "LayoutView",
            "align_content": null,
            "align_items": null,
            "align_self": null,
            "border": null,
            "bottom": null,
            "display": null,
            "flex": null,
            "flex_flow": null,
            "grid_area": null,
            "grid_auto_columns": null,
            "grid_auto_flow": null,
            "grid_auto_rows": null,
            "grid_column": null,
            "grid_gap": null,
            "grid_row": null,
            "grid_template_areas": null,
            "grid_template_columns": null,
            "grid_template_rows": null,
            "height": null,
            "justify_content": null,
            "justify_items": null,
            "left": null,
            "margin": null,
            "max_height": null,
            "max_width": null,
            "min_height": null,
            "min_width": null,
            "object_fit": null,
            "object_position": null,
            "order": null,
            "overflow": null,
            "overflow_x": null,
            "overflow_y": null,
            "padding": null,
            "right": null,
            "top": null,
            "visibility": null,
            "width": null
          }
        },
        "78d7c01cfbd04155981aeaf13a81dab9": {
          "model_module": "@jupyter-widgets/controls",
          "model_name": "DescriptionStyleModel",
          "model_module_version": "1.5.0",
          "state": {
            "_model_module": "@jupyter-widgets/controls",
            "_model_module_version": "1.5.0",
            "_model_name": "DescriptionStyleModel",
            "_view_count": null,
            "_view_module": "@jupyter-widgets/base",
            "_view_module_version": "1.2.0",
            "_view_name": "StyleView",
            "description_width": ""
          }
        },
        "f8db9b775ea44c77aabd6db12ec794df": {
          "model_module": "@jupyter-widgets/controls",
          "model_name": "DropdownModel",
          "model_module_version": "1.5.0",
          "state": {
            "_dom_classes": [],
            "_model_module": "@jupyter-widgets/controls",
            "_model_module_version": "1.5.0",
            "_model_name": "DropdownModel",
            "_options_labels": [
              "800",
              "1000",
              "1200",
              "1400",
              "1600",
              "1800",
              "2000",
              "2000+"
            ],
            "_view_count": null,
            "_view_module": "@jupyter-widgets/controls",
            "_view_module_version": "1.5.0",
            "_view_name": "DropdownView",
            "description": "Size (sqft):",
            "description_tooltip": null,
            "disabled": false,
            "index": 7,
            "layout": "IPY_MODEL_a45e5cd82bab4a4eac6b67db5d6090c3",
            "style": "IPY_MODEL_edff82f2c3704722ac051c69a0307c57"
          }
        },
        "a45e5cd82bab4a4eac6b67db5d6090c3": {
          "model_module": "@jupyter-widgets/base",
          "model_name": "LayoutModel",
          "model_module_version": "1.2.0",
          "state": {
            "_model_module": "@jupyter-widgets/base",
            "_model_module_version": "1.2.0",
            "_model_name": "LayoutModel",
            "_view_count": null,
            "_view_module": "@jupyter-widgets/base",
            "_view_module_version": "1.2.0",
            "_view_name": "LayoutView",
            "align_content": null,
            "align_items": null,
            "align_self": null,
            "border": null,
            "bottom": null,
            "display": null,
            "flex": null,
            "flex_flow": null,
            "grid_area": null,
            "grid_auto_columns": null,
            "grid_auto_flow": null,
            "grid_auto_rows": null,
            "grid_column": null,
            "grid_gap": null,
            "grid_row": null,
            "grid_template_areas": null,
            "grid_template_columns": null,
            "grid_template_rows": null,
            "height": null,
            "justify_content": null,
            "justify_items": null,
            "left": null,
            "margin": null,
            "max_height": null,
            "max_width": null,
            "min_height": null,
            "min_width": null,
            "object_fit": null,
            "object_position": null,
            "order": null,
            "overflow": null,
            "overflow_x": null,
            "overflow_y": null,
            "padding": null,
            "right": null,
            "top": null,
            "visibility": null,
            "width": null
          }
        },
        "edff82f2c3704722ac051c69a0307c57": {
          "model_module": "@jupyter-widgets/controls",
          "model_name": "DescriptionStyleModel",
          "model_module_version": "1.5.0",
          "state": {
            "_model_module": "@jupyter-widgets/controls",
            "_model_module_version": "1.5.0",
            "_model_name": "DescriptionStyleModel",
            "_view_count": null,
            "_view_module": "@jupyter-widgets/base",
            "_view_module_version": "1.2.0",
            "_view_name": "StyleView",
            "description_width": ""
          }
        },
        "abbee32352274048a68cd524bd8b88d3": {
          "model_module": "@jupyter-widgets/controls",
          "model_name": "TextareaModel",
          "model_module_version": "1.5.0",
          "state": {
            "_dom_classes": [],
            "_model_module": "@jupyter-widgets/controls",
            "_model_module_version": "1.5.0",
            "_model_name": "TextareaModel",
            "_view_count": null,
            "_view_module": "@jupyter-widgets/controls",
            "_view_module_version": "1.5.0",
            "_view_name": "TextareaView",
            "continuous_update": true,
            "description": "Notes:",
            "description_tooltip": null,
            "disabled": false,
            "layout": "IPY_MODEL_e2239a7cb5224ab495a9da7ac21a2fc0",
            "placeholder": "Tell us anything else that matters to you — neighborhood vibes, home style, must-have amenities, or even dealbreakers!",
            "rows": null,
            "style": "IPY_MODEL_aafc92ba744d4e0897961917c37b9c44",
            "value": "Searching for a large, light-filled home near the coast with space for working from home and a kitchen fit for hosting big family meals."
          }
        },
        "e2239a7cb5224ab495a9da7ac21a2fc0": {
          "model_module": "@jupyter-widgets/base",
          "model_name": "LayoutModel",
          "model_module_version": "1.2.0",
          "state": {
            "_model_module": "@jupyter-widgets/base",
            "_model_module_version": "1.2.0",
            "_model_name": "LayoutModel",
            "_view_count": null,
            "_view_module": "@jupyter-widgets/base",
            "_view_module_version": "1.2.0",
            "_view_name": "LayoutView",
            "align_content": null,
            "align_items": null,
            "align_self": null,
            "border": null,
            "bottom": null,
            "display": null,
            "flex": null,
            "flex_flow": null,
            "grid_area": null,
            "grid_auto_columns": null,
            "grid_auto_flow": null,
            "grid_auto_rows": null,
            "grid_column": null,
            "grid_gap": null,
            "grid_row": null,
            "grid_template_areas": null,
            "grid_template_columns": null,
            "grid_template_rows": null,
            "height": "100px",
            "justify_content": null,
            "justify_items": null,
            "left": null,
            "margin": null,
            "max_height": null,
            "max_width": null,
            "min_height": null,
            "min_width": null,
            "object_fit": null,
            "object_position": null,
            "order": null,
            "overflow": null,
            "overflow_x": null,
            "overflow_y": null,
            "padding": null,
            "right": null,
            "top": null,
            "visibility": null,
            "width": "500px"
          }
        },
        "aafc92ba744d4e0897961917c37b9c44": {
          "model_module": "@jupyter-widgets/controls",
          "model_name": "DescriptionStyleModel",
          "model_module_version": "1.5.0",
          "state": {
            "_model_module": "@jupyter-widgets/controls",
            "_model_module_version": "1.5.0",
            "_model_name": "DescriptionStyleModel",
            "_view_count": null,
            "_view_module": "@jupyter-widgets/base",
            "_view_module_version": "1.2.0",
            "_view_name": "StyleView",
            "description_width": ""
          }
        },
        "10b90189025d44bf925975ae95e73b90": {
          "model_module": "@jupyter-widgets/controls",
          "model_name": "ButtonModel",
          "model_module_version": "1.5.0",
          "state": {
            "_dom_classes": [],
            "_model_module": "@jupyter-widgets/controls",
            "_model_module_version": "1.5.0",
            "_model_name": "ButtonModel",
            "_view_count": null,
            "_view_module": "@jupyter-widgets/controls",
            "_view_module_version": "1.5.0",
            "_view_name": "ButtonView",
            "button_style": "success",
            "description": "Submit",
            "disabled": false,
            "icon": "",
            "layout": "IPY_MODEL_c6ab92da7f6d42c7b4b566eaf6896b24",
            "style": "IPY_MODEL_ae7e73d8d1b74bcc877b28a26bf3be63",
            "tooltip": ""
          }
        },
        "c6ab92da7f6d42c7b4b566eaf6896b24": {
          "model_module": "@jupyter-widgets/base",
          "model_name": "LayoutModel",
          "model_module_version": "1.2.0",
          "state": {
            "_model_module": "@jupyter-widgets/base",
            "_model_module_version": "1.2.0",
            "_model_name": "LayoutModel",
            "_view_count": null,
            "_view_module": "@jupyter-widgets/base",
            "_view_module_version": "1.2.0",
            "_view_name": "LayoutView",
            "align_content": null,
            "align_items": null,
            "align_self": null,
            "border": null,
            "bottom": null,
            "display": null,
            "flex": null,
            "flex_flow": null,
            "grid_area": null,
            "grid_auto_columns": null,
            "grid_auto_flow": null,
            "grid_auto_rows": null,
            "grid_column": null,
            "grid_gap": null,
            "grid_row": null,
            "grid_template_areas": null,
            "grid_template_columns": null,
            "grid_template_rows": null,
            "height": null,
            "justify_content": null,
            "justify_items": null,
            "left": null,
            "margin": null,
            "max_height": null,
            "max_width": null,
            "min_height": null,
            "min_width": null,
            "object_fit": null,
            "object_position": null,
            "order": null,
            "overflow": null,
            "overflow_x": null,
            "overflow_y": null,
            "padding": null,
            "right": null,
            "top": null,
            "visibility": null,
            "width": null
          }
        },
        "ae7e73d8d1b74bcc877b28a26bf3be63": {
          "model_module": "@jupyter-widgets/controls",
          "model_name": "ButtonStyleModel",
          "model_module_version": "1.5.0",
          "state": {
            "_model_module": "@jupyter-widgets/controls",
            "_model_module_version": "1.5.0",
            "_model_name": "ButtonStyleModel",
            "_view_count": null,
            "_view_module": "@jupyter-widgets/base",
            "_view_module_version": "1.2.0",
            "_view_name": "StyleView",
            "button_color": null,
            "font_weight": ""
          }
        },
        "b9617830206448acb521ddea908b041f": {
          "model_module": "@jupyter-widgets/output",
          "model_name": "OutputModel",
          "model_module_version": "1.0.0",
          "state": {
            "_dom_classes": [],
            "_model_module": "@jupyter-widgets/output",
            "_model_module_version": "1.0.0",
            "_model_name": "OutputModel",
            "_view_count": null,
            "_view_module": "@jupyter-widgets/output",
            "_view_module_version": "1.0.0",
            "_view_name": "OutputView",
            "layout": "IPY_MODEL_d9730e7cad35418a86e1e70a14f851e3",
            "msg_id": "",
            "outputs": [
              {
                "output_type": "stream",
                "name": "stdout",
                "text": [
                  "**Property Description:**  \n",
                  "Experience the perfect blend of coastal living and functional space in this stunning waterfront home in Seaside Cove. With four spacious bedrooms and three bathrooms, this light-filled residence offers ample room for both family life and productive work-from-home days. The gourmet kitchen is thoughtfully designed with custom cabinetry, perfect for hosting large family meals and entertaining guests. Enjoy the sunroom’s natural light streaming in throughout the day, creating an inspiring atmosphere for work or relaxation. Step out onto the expansive deck to take in panoramic ocean views and savor breathtaking sunsets. The master suite features a spa-like bathroom and walk-in closet, adding a touch of luxury to your daily routine. With private beach access and a two-car garage, this home provides an exceptional coastal lifestyle tailored to your needs.\n",
                  "\n",
                  "**Neighborhood Description:**  \n",
                  "Seaside Cove is a coveted coastal community known for its beautiful beaches and tranquil environment, ideal for those seeking a peaceful yet vibrant lifestyle near the ocean. This neighborhood offers plenty of outdoor recreational opportunities such as boating and hiking, satisfying active coastal living. Enjoy the friendly, welcoming neighbors and seasonal farmers’ markets that foster a sense of community while maintaining an upscale, relaxed vibe. Its proximity to the beach and quiet streets make it a wonderful setting for both focused work-from-home days and leisurely weekends by the coast.\n"
                ]
              }
            ]
          }
        },
        "d9730e7cad35418a86e1e70a14f851e3": {
          "model_module": "@jupyter-widgets/base",
          "model_name": "LayoutModel",
          "model_module_version": "1.2.0",
          "state": {
            "_model_module": "@jupyter-widgets/base",
            "_model_module_version": "1.2.0",
            "_model_name": "LayoutModel",
            "_view_count": null,
            "_view_module": "@jupyter-widgets/base",
            "_view_module_version": "1.2.0",
            "_view_name": "LayoutView",
            "align_content": null,
            "align_items": null,
            "align_self": null,
            "border": null,
            "bottom": null,
            "display": null,
            "flex": null,
            "flex_flow": null,
            "grid_area": null,
            "grid_auto_columns": null,
            "grid_auto_flow": null,
            "grid_auto_rows": null,
            "grid_column": null,
            "grid_gap": null,
            "grid_row": null,
            "grid_template_areas": null,
            "grid_template_columns": null,
            "grid_template_rows": null,
            "height": null,
            "justify_content": null,
            "justify_items": null,
            "left": null,
            "margin": null,
            "max_height": null,
            "max_width": null,
            "min_height": null,
            "min_width": null,
            "object_fit": null,
            "object_position": null,
            "order": null,
            "overflow": null,
            "overflow_x": null,
            "overflow_y": null,
            "padding": null,
            "right": null,
            "top": null,
            "visibility": null,
            "width": null
          }
        }
      }
    }
  },
  "cells": [
    {
      "cell_type": "markdown",
      "source": [
        "# Using OpenAI with Udacity\n",
        "\n",
        "```\n",
        "from openai import OpenAI\n",
        "client = OpenAI(\n",
        "    base_url = \"https://openai.vocareum.com/v1\",\n",
        "    api_key = \"voc-00000000000000000000000000000000abcd.12345678\"\n",
        ")\n",
        "```\n",
        "\n",
        "**My API Key is in Bitwarden**\n",
        "\n"
      ],
      "metadata": {
        "id": "h7R_wU7S9BFg"
      }
    },
    {
      "cell_type": "markdown",
      "source": [
        "# 1. Criteria\n",
        "\n",
        "The submission must demonstrate using a Large Language Model (LLM) to generate at least 10 diverse and realistic real estate listings containing facts about the real estate.\n",
        "\n",
        "**Example:**\n",
        "```\n",
        "Neighborhood: Green Oaks\n",
        "Price: $800,000\n",
        "Bedrooms: 3\n",
        "Bathrooms: 2\n",
        "House Size: 2,000 sqft\n",
        "\n",
        "Description:\n",
        "Welcome to this eco-friendly oasis nestled in the heart of Green Oaks.\n",
        "This charming 3-bedroom, 2-bathroom home boasts energy-efficient features such as solar panels and a well-insulated structure.\n",
        "Natural light floods the living spaces, highlighting the beautiful hardwood floors and eco-conscious finishes.\n",
        "The open-concept kitchen and dining area lead to a spacious backyard with a vegetable garden, perfect for the eco-conscious family.\n",
        "Embrace sustainable living without compromising on style in this Green Oaks gem.\n",
        "\n",
        "Neighborhood Description:\n",
        "Green Oaks is a close-knit, environmentally-conscious community with access to organic grocery stores, community gardens, and bike paths.\n",
        "Take a stroll through the nearby Green Oaks Park or grab a cup of coffee at the cozy Green Bean Cafe.\n",
        "With easy access to public transportation and bike lanes, commuting is a breeze.\n",
        "```\n"
      ],
      "metadata": {
        "id": "gZvLovB88ecs"
      }
    },
    {
      "cell_type": "markdown",
      "source": [
        "# Solve 1. criteria"
      ],
      "metadata": {
        "id": "9BT_hes99ZrQ"
      }
    },
    {
      "cell_type": "code",
      "source": [
        "!pip install -q openai"
      ],
      "metadata": {
        "id": "otY93OtJ9iyQ"
      },
      "execution_count": 1,
      "outputs": []
    },
    {
      "cell_type": "code",
      "source": [
        "# TODO: Replace/Remove me\n",
        "api_key = \"TODO\""
      ],
      "metadata": {
        "id": "b0DgZj1v-JYj"
      },
      "execution_count": 2,
      "outputs": []
    },
    {
      "cell_type": "code",
      "source": [
        "# Setup openai\n",
        "import openai\n",
        "\n",
        "# Configure OpenAI client\n",
        "client = openai.OpenAI(\n",
        "    api_key=api_key,\n",
        "    base_url=\"https://openai.vocareum.com/v1\",\n",
        ")\n",
        "\n",
        "openai_model = \"gpt-4.1-mini\""
      ],
      "metadata": {
        "id": "VLv9DCiR_KIv"
      },
      "execution_count": 3,
      "outputs": []
    },
    {
      "cell_type": "code",
      "source": [
        "# Ask the AI model for a nice prompt to generate 10 diverse and realistic\n",
        "# real estate listings\n",
        "\n",
        "prompt = \"\"\"\n",
        "### Content\n",
        "I should leverage AI to generate at least 1 0 diverse and realistic real estate listings.\n",
        "They should be diverse and realistic!\n",
        "\n",
        "Here is an example how such an listing can look like.\n",
        "### Example\n",
        "Neighborhood: Green Oaks\n",
        "Price: $800,000\n",
        "Bedrooms: 3\n",
        "Bathrooms: 2\n",
        "House Size: 2,000 sqft\n",
        "\n",
        "Description:\n",
        "Welcome to this eco-friendly oasis nestled in the heart of Green Oaks.\n",
        "This charming 3-bedroom, 2-bathroom home boasts energy-efficient features such as solar panels and a well-insulated structure.\n",
        "Natural light floods the living spaces, highlighting the beautiful hardwood floors and eco-conscious finishes.\n",
        "The open-concept kitchen and dining area lead to a spacious backyard with a vegetable garden, perfect for the eco-conscious family.\n",
        "Embrace sustainable living without compromising on style in this Green Oaks gem.\n",
        "\n",
        "Neighborhood Description:\n",
        "Green Oaks is a close-knit, environmentally-conscious community with access to organic grocery stores, community gardens, and bike paths.\n",
        "Take a stroll through the nearby Green Oaks Park or grab a cup of coffee at the cozy Green Bean Cafe.\n",
        "With easy access to public transportation and bike lanes, commuting is a breeze.\n",
        "\n",
        "## System prompt\n",
        "Furthermore, I need a system prompt so that the system knows exactly what it has to generate.\n",
        "Maybe something like \"You're an real estate agent and....\"\n",
        "\n",
        "### Help\n",
        "\n",
        "You should help me crafting a nice prompt to an AI model that generates me at least 10 such listings.\n",
        "I guess it also make sense to include my example in the prompt.\n",
        "Additionally, the AI model should return those in json format, so that I can parse them nicely with python.\n",
        "The output should be in the following format:\n",
        "```\n",
        "{\n",
        "  \"system_prompt\": \"Your prompt here\",\n",
        "  \"user_prompt\": \"Prompt for the AI model here\"\n",
        "}\n",
        "```\n",
        "\n",
        "I also think it make sense to include the example in the user_prompt!\n",
        "\n",
        "The output of the listings example should also be in json:\n",
        "```\n",
        "[\n",
        "  {\n",
        "    \"neighborhood\": \"Green Oaks\",\n",
        "    \"price\": 800000,\n",
        "    \"bedrooms\": 3,\n",
        "    \"bathrooms\": 2,\n",
        "    \"house_size\": 2000,\n",
        "    \"description\": \"...\",\n",
        "    \"neighborhood_description\": \"...\"\n",
        "  },\n",
        "  ...\n",
        "]\n",
        "\n",
        "Do not include anything else in the output.\n",
        "Just the json I described above.\n",
        "I want to assign the output to an variable in python to move forward.\n",
        "\"\"\"\n",
        "\n",
        "response = client.chat.completions.create(\n",
        "    model=openai_model,\n",
        "    messages=[\n",
        "        {\"role\": \"user\", \"content\": prompt}\n",
        "    ],\n",
        "    response_format={ \"type\": \"json_object\" }\n",
        ")\n",
        "\n",
        "prompts_for_listings = response.choices[0].message.content\n",
        "print(prompts_for_listings)"
      ],
      "metadata": {
        "colab": {
          "base_uri": "https://localhost:8080/"
        },
        "id": "TsAFHNyL9oMm",
        "outputId": "8524cc68-8d51-497e-c6b0-fdeee6d6437e"
      },
      "execution_count": 4,
      "outputs": [
        {
          "output_type": "stream",
          "name": "stdout",
          "text": [
            "{\n",
            "  \"system_prompt\": \"You are a professional real estate agent tasked with generating realistic and diverse real estate listings. Each listing must include detailed property information, a compelling description of the home, and a neighborhood description that captures the unique atmosphere and amenities of the area. Your goal is to create at least 10 diverse listings that vary in price, size, style, and location, ensuring they are believable and engaging for potential buyers. Return the listings in a structured JSON format as specified.\",\n",
            "  \"user_prompt\": \"Generate at least 10 diverse and realistic real estate listings in JSON format. Each listing should include the following fields: neighborhood, price (integer), bedrooms (integer), bathrooms (integer), house_size (integer, in sqft), description (a detailed paragraph describing the property), and neighborhood_description (a paragraph describing the neighborhood and its attractions). Use varied property types, price ranges, neighborhood types (urban, suburban, rural), and styles to ensure diversity.\\n\\nExample:\\n[\\n  {\\n    \\\"neighborhood\\\": \\\"Green Oaks\\\",\\n    \\\"price\\\": 800000,\\n    \\\"bedrooms\\\": 3,\\n    \\\"bathrooms\\\": 2,\\n    \\\"house_size\\\": 2000,\\n    \\\"description\\\": \\\"Welcome to this eco-friendly oasis nestled in the heart of Green Oaks. This charming 3-bedroom, 2-bathroom home boasts energy-efficient features such as solar panels and a well-insulated structure. Natural light floods the living spaces, highlighting the beautiful hardwood floors and eco-conscious finishes. The open-concept kitchen and dining area lead to a spacious backyard with a vegetable garden, perfect for the eco-conscious family. Embrace sustainable living without compromising on style in this Green Oaks gem.\\\",\\n    \\\"neighborhood_description\\\": \\\"Green Oaks is a close-knit, environmentally-conscious community with access to organic grocery stores, community gardens, and bike paths. Take a stroll through the nearby Green Oaks Park or grab a cup of coffee at the cozy Green Bean Cafe. With easy access to public transportation and bike lanes, commuting is a breeze.\\\"\\n  }\\n]\"\n",
            "}\n"
          ]
        }
      ]
    },
    {
      "cell_type": "code",
      "source": [
        "# Take the prompts generate by AI and lets generate a few listings!\n",
        "import json\n",
        "prompts_for_listings_json = json.loads(prompts_for_listings)\n",
        "\n",
        "response = client.chat.completions.create(\n",
        "    model=openai_model,\n",
        "    messages=[\n",
        "        {\"role\": \"system\", \"content\": prompts_for_listings_json[\"system_prompt\"]},\n",
        "        {\"role\": \"user\", \"content\": prompts_for_listings_json[\"user_prompt\"]}\n",
        "    ]\n",
        ")\n",
        "\n",
        "listings_in_json = response.choices[0].message.content\n",
        "print(listings_in_json)"
      ],
      "metadata": {
        "colab": {
          "base_uri": "https://localhost:8080/"
        },
        "id": "IOvRbhqhBVj3",
        "outputId": "c798160f-b456-4d7a-fe86-1da3dbac6f22"
      },
      "execution_count": 5,
      "outputs": [
        {
          "output_type": "stream",
          "name": "stdout",
          "text": [
            "[\n",
            "  {\n",
            "    \"neighborhood\": \"Maplewood Heights\",\n",
            "    \"price\": 425000,\n",
            "    \"bedrooms\": 3,\n",
            "    \"bathrooms\": 2,\n",
            "    \"house_size\": 1700,\n",
            "    \"description\": \"This beautifully updated 3-bedroom, 2-bathroom bungalow offers modern comfort with a classic touch. The spacious living room features a gas fireplace and large windows that flood the home with natural light. The kitchen is equipped with stainless steel appliances, granite countertops, and a breakfast nook. Outside, a fenced backyard and deck provide a perfect space for entertaining or relaxing with family and pets. The master suite includes a private bath and ample closet space.\",\n",
            "    \"neighborhood_description\": \"Maplewood Heights is a friendly suburban enclave known for its tree-lined streets, excellent schools, and abundant parks. Residents enjoy community farmers’ markets, nearby hiking trails, and family-friendly events at the local community center. Convenient shopping centers and dining options are within a short drive, making it ideal for growing families.\"\n",
            "  },\n",
            "  {\n",
            "    \"neighborhood\": \"Downtown Brickstone\",\n",
            "    \"price\": 750000,\n",
            "    \"bedrooms\": 2,\n",
            "    \"bathrooms\": 2,\n",
            "    \"house_size\": 1300,\n",
            "    \"description\": \"Urban loft living at its finest! This 2-bedroom, 2-bathroom condo boasts an open floor plan with exposed brick walls and industrial-style ceilings. The modern kitchen features quartz countertops, a breakfast bar, and smart appliances. Floor-to-ceiling windows provide stunning cityscape views and abundant daylight. Amenities include a rooftop deck, fitness center, and secure parking. Ideal for young professionals or couples seeking vibrant city life.\",\n",
            "    \"neighborhood_description\": \"Brickstone’s downtown district buzzes with energy, offering trendy cafes, art galleries, and nightlife. Walk to theater venues, gourmet restaurants, and boutique shops. Public transit is easily accessible, making commuting hassle-free. The neighborhood blends historic charm with modern amenities for a dynamic urban experience.\"\n",
            "  },\n",
            "  {\n",
            "    \"neighborhood\": \"Willow Creek Farms\",\n",
            "    \"price\": 620000,\n",
            "    \"bedrooms\": 4,\n",
            "    \"bathrooms\": 3,\n",
            "    \"house_size\": 2900,\n",
            "    \"description\": \"Escape to country comfort in this spacious 4-bedroom, 3-bath farmhouse with a wraparound porch and scenic views. The home features vaulted ceilings, hardwood floors, and a large farmhouse-style kitchen with a center island. A cozy stone fireplace anchors the living area, while the master suite includes a soaking tub and walk-in closet. The property includes a 1-acre lot with established gardens and a detached garage.\",\n",
            "    \"neighborhood_description\": \"Willow Creek Farms offers tranquil rural living just minutes from town. Surrounded by open fields and pastures, the area is perfect for horse lovers and those desiring space and privacy. Community life centers around seasonal farmers’ markets, equestrian events, and local artisan fairs. Enjoy starry nights and fresh country air in this peaceful retreat.\"\n",
            "  },\n",
            "  {\n",
            "    \"neighborhood\": \"Sunnyvale Shores\",\n",
            "    \"price\": 1150000,\n",
            "    \"bedrooms\": 5,\n",
            "    \"bathrooms\": 4,\n",
            "    \"house_size\": 4200,\n",
            "    \"description\": \"Luxurious waterfront estate featuring 5 bedrooms and 4 bathrooms with panoramic views of the lake. This Mediterranean-style home includes an elegant foyer, gourmet chef’s kitchen with custom cabinetry, and multiple living spaces with floor-to-ceiling windows. The master retreat has direct balcony access and a spa-like bath. Outdoor amenities include a large patio, infinity pool, private dock, and beautifully landscaped gardens.\",\n",
            "    \"neighborhood_description\": \"Sunnyvale Shores is an upscale lakeside community with private beach access, walking trails, and a vibrant yacht club. Residents enjoy exclusive dining, water sports, and seasonal festivals hosted at the waterfront park. The neighborhood offers a serene lifestyle minutes from urban conveniences and top-rated schools.\"\n",
            "  },\n",
            "  {\n",
            "    \"neighborhood\": \"Cedar Ridge\",\n",
            "    \"price\": 325000,\n",
            "    \"bedrooms\": 3,\n",
            "    \"bathrooms\": 1,\n",
            "    \"house_size\": 1100,\n",
            "    \"description\": \"Charming mid-century ranch style home with original hardwood floors and newly remodeled bathroom. The eat-in kitchen includes updated cabinetry and a small breakfast bar. The living room features large picture windows overlooking a mature backyard with a detached shed for storage. Perfect starter home in a quiet neighborhood with mature trees and easy freeway access.\",\n",
            "    \"neighborhood_description\": \"Cedar Ridge is a quiet suburban neighborhood known for its affordable homes and tight-knit community feel. It is close to parks, local schools, and shopping centers. Residents enjoy weekend community garage sales and a well-maintained public library. The area is popular with first-time buyers and young families.\"\n",
            "  },\n",
            "  {\n",
            "    \"neighborhood\": \"Harborside Village\",\n",
            "    \"price\": 480000,\n",
            "    \"bedrooms\": 2,\n",
            "    \"bathrooms\": 2,\n",
            "    \"house_size\": 1400,\n",
            "    \"description\": \"Contemporary coastal cottage with 2 bedrooms and 2 full baths, just steps from the marina. The open concept living and dining areas feature vaulted ceilings and sliding glass doors opening to a private deck perfect for sunset views. Updated kitchen with quartz counters and modern appliances. Includes a secured parking spot and access to a community pool and clubhouse.\",\n",
            "    \"neighborhood_description\": \"Harborside Village is a small beach town community that offers boating, fishing, and waterfront dining. Stroll along the boardwalk, explore boutiques, or enjoy local seafood markets. The neighborhood is beloved for its relaxed vibe, friendly locals, and frequent outdoor festivals celebrating maritime culture.\"\n",
            "  },\n",
            "  {\n",
            "    \"neighborhood\": \"Oak Valley\",\n",
            "    \"price\": 895000,\n",
            "    \"bedrooms\": 4,\n",
            "    \"bathrooms\": 3,\n",
            "    \"house_size\": 2800,\n",
            "    \"description\": \"Elegant two-story colonial home featuring 4 bedrooms and 3 bathrooms situated on a spacious corner lot. The formal living and dining rooms are ideal for entertaining, while a family room with a fireplace offers a cozy retreat. The updated kitchen includes granite countertops and stainless appliances. The large backyard boasts a patio and mature landscaping.\",\n",
            "    \"neighborhood_description\": \"Oak Valley is a well-established suburban neighborhood acclaimed for excellent public schools and lush green spaces. Residents enjoy community tennis courts, walking trails, and a neighborhood clubhouse hosting regular events. The area combines a strong sense of community with convenient access to urban amenities.\"\n",
            "  },\n",
            "  {\n",
            "    \"neighborhood\": \"Pine Hill Estates\",\n",
            "    \"price\": 560000,\n",
            "    \"bedrooms\": 3,\n",
            "    \"bathrooms\": 2.5,\n",
            "    \"house_size\": 2200,\n",
            "    \"description\": \"Spacious contemporary split-level home featuring hardwood floors and abundant natural light. This 3-bedroom, 2.5-bathroom property offers a modern kitchen with updated cabinetry and stainless-steel appliances. The master suite includes a private bath and walk-in closet. The large, landscaped backyard has a covered patio ideal for entertaining or outdoor dining.\",\n",
            "    \"neighborhood_description\": \"Pine Hill Estates is a peaceful suburban neighborhood nestled among rolling hills and mature pine trees. It is popular with families for its playgrounds, community pool, and nearby nature preserves. Convenient shopping and dining options are just a short drive away, making it an excellent blend of quiet living and accessibility.\"\n",
            "  },\n",
            "  {\n",
            "    \"neighborhood\": \"Silver Meadows\",\n",
            "    \"price\": 290000,\n",
            "    \"bedrooms\": 2,\n",
            "    \"bathrooms\": 1,\n",
            "    \"house_size\": 900,\n",
            "    \"description\": \"Cozy and affordable 2-bedroom, 1-bath detached cottage perfect for first-time buyers or downsizers. This home features updated vinyl flooring, a compact kitchen with newer appliances, and a fenced backyard with mature shrubs. The living area offers a wood-burning stove to keep warm in winter and ample natural light throughout. Bonus detached garage with workshop space.\",\n",
            "    \"neighborhood_description\": \"Silver Meadows is a quiet, rural neighborhood characterized by wide-open spaces, small farms, and country roads. The community values a slow pace of life with local events like seasonal craft fairs and farmers’ markets. Wildlife viewing and outdoor recreation are abundant, attracting those who crave nature and tranquility.\"\n",
            "  },\n",
            "  {\n",
            "    \"neighborhood\": \"Elmwood Park\",\n",
            "    \"price\": 1080000,\n",
            "    \"bedrooms\": 5,\n",
            "    \"bathrooms\": 4,\n",
            "    \"house_size\": 3600,\n",
            "    \"description\": \"Stunning custom-built 5-bedroom, 4-bathroom home located in a prestigious gated community. Open floor plan with vaulted ceilings, hardwood floors, and high-end finishes throughout. The gourmet kitchen boasts double ovens, a large island, and walk-in pantry. The master suite includes a luxurious bathroom with a soaking tub and separate shower. Beautifully landscaped yard with covered patio and built-in grill station.\",\n",
            "    \"neighborhood_description\": \"Elmwood Park is an upscale suburban neighborhood known for its security, privacy, and lush green spaces. The community offers walking trails, tennis courts, and a private clubhouse. Close to elite schools, shopping districts, and fine dining, Elmwood Park combines luxury living with convenience.\"\n",
            "  }\n",
            "]\n"
          ]
        }
      ]
    },
    {
      "cell_type": "markdown",
      "source": [
        "# 2. Criteria\n",
        "\n",
        "The project must demonstrate the creation of a vector database and successfully storing real estate listing embeddings within it. The database should effectively store and organize the embeddings generated from the LLM-created listings."
      ],
      "metadata": {
        "id": "3tbRpxbmC3Jr"
      }
    },
    {
      "cell_type": "markdown",
      "source": [
        "# Solve 2. criteria\n",
        "\n",
        "> **Note:** The following code will use the listings generated by the AI model from the previous cells.\n",
        "I also prepared a `listing.json` which can be used instead.\n",
        "This was also once created by an LLM and I used that for testing.\n",
        "If you want to use it, look up the cell which explains how to load it instead of using the **newly** generated listings."
      ],
      "metadata": {
        "id": "P978gNSiDJHi"
      }
    },
    {
      "cell_type": "code",
      "source": [
        "!pip install -q chromadb"
      ],
      "metadata": {
        "colab": {
          "base_uri": "https://localhost:8080/"
        },
        "id": "wTy3t4rjC2nz",
        "outputId": "74bcd193-c9ac-46d5-9fb6-7079c59969ef"
      },
      "execution_count": 6,
      "outputs": [
        {
          "output_type": "stream",
          "name": "stdout",
          "text": [
            "\u001b[?25l     \u001b[90m━━━━━━━━━━━━━━━━━━━━━━━━━━━━━━━━━━━━━━━━\u001b[0m \u001b[32m0.0/67.3 kB\u001b[0m \u001b[31m?\u001b[0m eta \u001b[36m-:--:--\u001b[0m\r\u001b[2K     \u001b[90m━━━━━━━━━━━━━━━━━━━━━━━━━━━━━━━━━━━━━━━━\u001b[0m \u001b[32m67.3/67.3 kB\u001b[0m \u001b[31m4.5 MB/s\u001b[0m eta \u001b[36m0:00:00\u001b[0m\n",
            "\u001b[?25h  Installing build dependencies ... \u001b[?25l\u001b[?25hdone\n",
            "  Getting requirements to build wheel ... \u001b[?25l\u001b[?25hdone\n",
            "  Preparing metadata (pyproject.toml) ... \u001b[?25l\u001b[?25hdone\n",
            "\u001b[2K   \u001b[90m━━━━━━━━━━━━━━━━━━━━━━━━━━━━━━━━━━━━━━━━\u001b[0m \u001b[32m18.3/18.3 MB\u001b[0m \u001b[31m78.6 MB/s\u001b[0m eta \u001b[36m0:00:00\u001b[0m\n",
            "\u001b[2K   \u001b[90m━━━━━━━━━━━━━━━━━━━━━━━━━━━━━━━━━━━━━━━━\u001b[0m \u001b[32m2.4/2.4 MB\u001b[0m \u001b[31m68.4 MB/s\u001b[0m eta \u001b[36m0:00:00\u001b[0m\n",
            "\u001b[2K   \u001b[90m━━━━━━━━━━━━━━━━━━━━━━━━━━━━━━━━━━━━━━━━\u001b[0m \u001b[32m94.9/94.9 kB\u001b[0m \u001b[31m6.4 MB/s\u001b[0m eta \u001b[36m0:00:00\u001b[0m\n",
            "\u001b[2K   \u001b[90m━━━━━━━━━━━━━━━━━━━━━━━━━━━━━━━━━━━━━━━━\u001b[0m \u001b[32m284.2/284.2 kB\u001b[0m \u001b[31m15.9 MB/s\u001b[0m eta \u001b[36m0:00:00\u001b[0m\n",
            "\u001b[2K   \u001b[90m━━━━━━━━━━━━━━━━━━━━━━━━━━━━━━━━━━━━━━━━\u001b[0m \u001b[32m2.0/2.0 MB\u001b[0m \u001b[31m66.2 MB/s\u001b[0m eta \u001b[36m0:00:00\u001b[0m\n",
            "\u001b[2K   \u001b[90m━━━━━━━━━━━━━━━━━━━━━━━━━━━━━━━━━━━━━━━━\u001b[0m \u001b[32m101.6/101.6 kB\u001b[0m \u001b[31m7.5 MB/s\u001b[0m eta \u001b[36m0:00:00\u001b[0m\n",
            "\u001b[2K   \u001b[90m━━━━━━━━━━━━━━━━━━━━━━━━━━━━━━━━━━━━━━━━\u001b[0m \u001b[32m16.0/16.0 MB\u001b[0m \u001b[31m91.2 MB/s\u001b[0m eta \u001b[36m0:00:00\u001b[0m\n",
            "\u001b[2K   \u001b[90m━━━━━━━━━━━━━━━━━━━━━━━━━━━━━━━━━━━━━━━━\u001b[0m \u001b[32m55.9/55.9 kB\u001b[0m \u001b[31m3.8 MB/s\u001b[0m eta \u001b[36m0:00:00\u001b[0m\n",
            "\u001b[2K   \u001b[90m━━━━━━━━━━━━━━━━━━━━━━━━━━━━━━━━━━━━━━━━\u001b[0m \u001b[32m89.1/89.1 kB\u001b[0m \u001b[31m7.1 MB/s\u001b[0m eta \u001b[36m0:00:00\u001b[0m\n",
            "\u001b[2K   \u001b[90m━━━━━━━━━━━━━━━━━━━━━━━━━━━━━━━━━━━━━━━━\u001b[0m \u001b[32m62.5/62.5 kB\u001b[0m \u001b[31m4.5 MB/s\u001b[0m eta \u001b[36m0:00:00\u001b[0m\n",
            "\u001b[2K   \u001b[90m━━━━━━━━━━━━━━━━━━━━━━━━━━━━━━━━━━━━━━━━\u001b[0m \u001b[32m459.8/459.8 kB\u001b[0m \u001b[31m27.5 MB/s\u001b[0m eta \u001b[36m0:00:00\u001b[0m\n",
            "\u001b[2K   \u001b[90m━━━━━━━━━━━━━━━━━━━━━━━━━━━━━━━━━━━━━━━━\u001b[0m \u001b[32m71.5/71.5 kB\u001b[0m \u001b[31m5.2 MB/s\u001b[0m eta \u001b[36m0:00:00\u001b[0m\n",
            "\u001b[2K   \u001b[90m━━━━━━━━━━━━━━━━━━━━━━━━━━━━━━━━━━━━━━━━\u001b[0m \u001b[32m4.0/4.0 MB\u001b[0m \u001b[31m85.3 MB/s\u001b[0m eta \u001b[36m0:00:00\u001b[0m\n",
            "\u001b[2K   \u001b[90m━━━━━━━━━━━━━━━━━━━━━━━━━━━━━━━━━━━━━━━━\u001b[0m \u001b[32m454.8/454.8 kB\u001b[0m \u001b[31m27.9 MB/s\u001b[0m eta \u001b[36m0:00:00\u001b[0m\n",
            "\u001b[2K   \u001b[90m━━━━━━━━━━━━━━━━━━━━━━━━━━━━━━━━━━━━━━━━\u001b[0m \u001b[32m46.0/46.0 kB\u001b[0m \u001b[31m3.1 MB/s\u001b[0m eta \u001b[36m0:00:00\u001b[0m\n",
            "\u001b[2K   \u001b[90m━━━━━━━━━━━━━━━━━━━━━━━━━━━━━━━━━━━━━━━━\u001b[0m \u001b[32m86.8/86.8 kB\u001b[0m \u001b[31m6.8 MB/s\u001b[0m eta \u001b[36m0:00:00\u001b[0m\n",
            "\u001b[?25h  Building wheel for pypika (pyproject.toml) ... \u001b[?25l\u001b[?25hdone\n"
          ]
        }
      ]
    },
    {
      "cell_type": "code",
      "source": [
        "# Load the chroma client and set it up\n",
        "import chromadb\n",
        "\n",
        "chroma_client = chromadb.PersistentClient(path=\"./chroma_db/\")\n",
        "collection_property = chroma_client.get_or_create_collection(name=\"real_estate_listings_property_desc\")\n",
        "collection_neighborhood = chroma_client.get_or_create_collection(name=\"real_estate_listings_neighborhood_desc\")"
      ],
      "metadata": {
        "id": "dWX2pmVyDcF-"
      },
      "execution_count": 7,
      "outputs": []
    },
    {
      "cell_type": "code",
      "source": [
        "# HEADS UP!!\n",
        "# If you want to override the AI generated listings\n",
        "# with prepared data run this cell!\n",
        "# Otherwise just ignore/jump over it.\n",
        "\n",
        "# To make it work, place the listings.json file\n",
        "# just next to this notebook file so it can be loaded correctly\n",
        "\n",
        "listings_file = open('listings.json', 'r')\n",
        "listings_in_json = listings_file.read()\n",
        "listings_file.close()"
      ],
      "metadata": {
        "id": "LwaolB-rFUGN"
      },
      "execution_count": 8,
      "outputs": []
    },
    {
      "cell_type": "code",
      "source": [
        "# Prepare the listings to make it easier to save in the DB\n",
        "import json\n",
        "\n",
        "listings = json.loads(listings_in_json)\n",
        "\n",
        "# Print the first listing to demonstrate that it worked\n",
        "print(json.dumps(listings[0], indent=2))"
      ],
      "metadata": {
        "colab": {
          "base_uri": "https://localhost:8080/"
        },
        "id": "2e47xjBoDp0X",
        "outputId": "0bb4950d-f2f3-4572-b2d4-ec4547d4a903"
      },
      "execution_count": 9,
      "outputs": [
        {
          "output_type": "stream",
          "name": "stdout",
          "text": [
            "{\n",
            "  \"neighborhood\": \"Maplewood Heights\",\n",
            "  \"price\": 425000,\n",
            "  \"bedrooms\": 3,\n",
            "  \"bathrooms\": 2,\n",
            "  \"house_size\": 1500,\n",
            "  \"description\": \"This cozy 3-bedroom, 2-bathroom ranch home in Maplewood Heights offers a spacious open floor plan with remodeled kitchen featuring granite countertops and stainless steel appliances. The large backyard with deck is perfect for entertaining or quiet evenings with family. Natural light fills every room thanks to abundant windows, and the finished basement adds extra living space or storage.\",\n",
            "  \"neighborhood_description\": \"Maplewood Heights is a family-friendly suburban neighborhood known for its excellent public schools, community parks, and tree-lined streets. Residents enjoy local farmers\\u2019 markets and easy access to downtown shops and restaurants within a 15-minute drive.\"\n",
            "}\n"
          ]
        }
      ]
    },
    {
      "cell_type": "code",
      "source": [
        "# Save the data into the DB\n",
        "for i, listing in enumerate(listings):\n",
        "  metadatas = listing.copy()\n",
        "  del metadatas[\"description\"]\n",
        "  del metadatas[\"neighborhood_description\"]\n",
        "\n",
        "  collection_property.add(\n",
        "    documents=listing[\"description\"],\n",
        "    ids=[str(i)],\n",
        "    metadatas=[metadatas]\n",
        "  )\n",
        "  collection_neighborhood.add(\n",
        "    documents=listing[\"neighborhood_description\"],\n",
        "    ids=[str(i)],\n",
        "    metadatas=[metadatas]\n",
        "  )"
      ],
      "metadata": {
        "colab": {
          "base_uri": "https://localhost:8080/"
        },
        "id": "HY4U2edjE81e",
        "outputId": "0ddc1c40-2277-40fa-e218-041a04851e15"
      },
      "execution_count": 10,
      "outputs": [
        {
          "output_type": "stream",
          "name": "stderr",
          "text": [
            "/root/.cache/chroma/onnx_models/all-MiniLM-L6-v2/onnx.tar.gz: 100%|██████████| 79.3M/79.3M [00:02<00:00, 35.5MiB/s]\n"
          ]
        }
      ]
    },
    {
      "cell_type": "code",
      "source": [
        "# Print the first listing to demonstate that it worked\n",
        "data = collection_property.get(ids=[\"0\"], include=[\"documents\", \"metadatas\"])\n",
        "print(f\"Document:\\n{data['documents'][0]}\")\n",
        "print(f\"Metadata:\\n{data['metadatas'][0]}\")\n",
        "\n",
        "print(\"---\")\n",
        "\n",
        "data = collection_neighborhood.get(ids=[\"0\"], include=[\"documents\", \"metadatas\"])\n",
        "print(f\"Document:\\n{data['documents'][0]}\")\n",
        "print(f\"Metadata:\\n{data['metadatas'][0]}\")"
      ],
      "metadata": {
        "colab": {
          "base_uri": "https://localhost:8080/"
        },
        "id": "WDGALA7bS5Lx",
        "outputId": "ada3a929-2b2f-40ec-b68b-dbf456545335"
      },
      "execution_count": 11,
      "outputs": [
        {
          "output_type": "stream",
          "name": "stdout",
          "text": [
            "Document:\n",
            "This cozy 3-bedroom, 2-bathroom ranch home in Maplewood Heights offers a spacious open floor plan with remodeled kitchen featuring granite countertops and stainless steel appliances. The large backyard with deck is perfect for entertaining or quiet evenings with family. Natural light fills every room thanks to abundant windows, and the finished basement adds extra living space or storage.\n",
            "Metadata:\n",
            "{'bathrooms': 2, 'house_size': 1500, 'price': 425000, 'bedrooms': 3, 'neighborhood': 'Maplewood Heights'}\n",
            "---\n",
            "Document:\n",
            "Maplewood Heights is a family-friendly suburban neighborhood known for its excellent public schools, community parks, and tree-lined streets. Residents enjoy local farmers’ markets and easy access to downtown shops and restaurants within a 15-minute drive.\n",
            "Metadata:\n",
            "{'price': 425000, 'house_size': 1500, 'neighborhood': 'Maplewood Heights', 'bedrooms': 3, 'bathrooms': 2}\n"
          ]
        }
      ]
    },
    {
      "cell_type": "markdown",
      "source": [
        "# 3. Critera\n",
        "\n",
        "The application must include a functionality where listings are semantically searched based on given buyer preferences. The search should return listings that closely match the input preferences."
      ],
      "metadata": {
        "id": "dSN7toswcOt0"
      }
    },
    {
      "cell_type": "markdown",
      "source": [
        "# Solve 3. criteria"
      ],
      "metadata": {
        "id": "rXM5MzENczrU"
      }
    },
    {
      "cell_type": "code",
      "source": [
        "# Here we prepare a function for the similarity search\n",
        "def search_property_similarity(query, pricing, bedrooms, bathrooms, size):\n",
        "  return collection_property.query(\n",
        "      query_texts=[query],\n",
        "      where={\n",
        "        \"$and\": [\n",
        "          {\"price\": {\"$gte\": pricing}},\n",
        "          {\"bedrooms\": {\"$gte\": bedrooms}},\n",
        "          {\"bathrooms\": {\"$gte\": bathrooms}},\n",
        "          {\"house_size\": {\"$gte\": size}}\n",
        "        ]\n",
        "      }\n",
        "  )\n",
        "\n",
        "def search_neighborhood_similarity(query, pricing, bedrooms, bathrooms, size):\n",
        "  return collection_neighborhood.query(\n",
        "      query_texts=[query],\n",
        "      where={\n",
        "        \"$and\": [\n",
        "          {\"price\": {\"$gte\": pricing}},\n",
        "          {\"bedrooms\": {\"$gte\": bedrooms}},\n",
        "          {\"bathrooms\": {\"$gte\": bathrooms}},\n",
        "          {\"house_size\": {\"$gte\": size}}\n",
        "        ]\n",
        "      }\n",
        "  )"
      ],
      "metadata": {
        "id": "kBnOBuLc5bGD"
      },
      "execution_count": 12,
      "outputs": []
    },
    {
      "cell_type": "code",
      "source": [
        "# Test our defined functions\n",
        "buyer_notes = \"I need a luxury villa. Playgrounds should be nearby.\"\n",
        "result = search_property_similarity(buyer_notes, 3000, 3, 2, 2000)\n",
        "print(result)\n",
        "buyer_notes = \"I need a luxury villa. Playgrounds should be nearby.\"\n",
        "result = search_neighborhood_similarity(buyer_notes, 3000, 3, 2, 2000)\n",
        "print(result)"
      ],
      "metadata": {
        "colab": {
          "base_uri": "https://localhost:8080/"
        },
        "id": "CtOv1hCB6Q-6",
        "outputId": "5a528d77-8e0c-4867-a755-3cadaa4b7740"
      },
      "execution_count": 13,
      "outputs": [
        {
          "output_type": "stream",
          "name": "stdout",
          "text": [
            "{'ids': [['6', '2', '4']], 'embeddings': None, 'documents': [['Luxurious estate home in Hilltop Estates with spectacular mountain views. Featuring 5 bedrooms, each with en-suite baths, high ceilings, designer finishes, a gourmet kitchen with professional-grade appliances, and a home theater. Expansive patios and an infinity-edge pool make this property an entertainer’s dream. The gated community offers privacy and exclusivity.', 'Stunning waterfront home in Seaside Cove featuring panoramic ocean views from every room. This elegant 4-bedroom, 3-bathroom property offers a gourmet kitchen with custom cabinetry, a sunroom, and an expansive deck perfect for watching sunsets. The master suite includes a spa-like bathroom and walk-in closet. Enjoy private beach access and a two-car garage.', \"Modern family home in Crestview Meadows with 4 spacious bedrooms, 3 baths, and an open-concept living room that flows seamlessly into a chef's kitchen with stainless steel appliances and center island. The master bedroom suite comes with a walk-in closet and dual vanity bath. The fenced backyard includes a patio and mature landscaping, perfect for children and pets.\"]], 'uris': None, 'included': ['metadatas', 'documents', 'distances'], 'data': None, 'metadatas': [[{'bathrooms': 5, 'house_size': 4300, 'price': 2450000, 'bedrooms': 5, 'neighborhood': 'Hilltop Estates'}, {'bathrooms': 3, 'bedrooms': 4, 'neighborhood': 'Seaside Cove', 'price': 1350000, 'house_size': 2800}, {'neighborhood': 'Crestview Meadows', 'price': 620000, 'bathrooms': 3, 'bedrooms': 4, 'house_size': 2200}]], 'distances': [[0.869187593460083, 1.0472670793533325, 1.093559980392456]]}\n",
            "{'ids': [['6', '4', '2']], 'embeddings': None, 'documents': [['Hilltop Estates is an upscale, serene neighborhood perched on rolling hills with large lots and stunning vistas. Residents enjoy hiking trails, equestrian facilities, and close proximity to renowned private schools and fine dining.', 'Crestview Meadows is a suburban enclave with top-rated schools, well-maintained parks, and recreational facilities. Its quiet streets and family-friendly atmosphere make it a sought-after locale for growing families looking for space and community.', 'Seaside Cove is an exclusive coastal community prized for its beautiful beaches, quiet atmosphere, and outdoor recreational opportunities such as boating and hiking. Friendly neighbors and seasonal farmers’ markets add to the relaxed, upscale vibe.']], 'uris': None, 'included': ['metadatas', 'documents', 'distances'], 'data': None, 'metadatas': [[{'bedrooms': 5, 'neighborhood': 'Hilltop Estates', 'house_size': 4300, 'price': 2450000, 'bathrooms': 5}, {'price': 620000, 'bathrooms': 3, 'bedrooms': 4, 'house_size': 2200, 'neighborhood': 'Crestview Meadows'}, {'price': 1350000, 'bathrooms': 3, 'house_size': 2800, 'bedrooms': 4, 'neighborhood': 'Seaside Cove'}]], 'distances': [[1.0739542245864868, 1.2148830890655518, 1.2986745834350586]]}\n"
          ]
        }
      ]
    },
    {
      "cell_type": "code",
      "source": [
        "# Since we do a property description and neighborhood search\n",
        "# we have to sum the distance of both results\n",
        "# to find the most relevant property\n",
        "def find_best_matching_properties(query, pricing, bedrooms, bathrooms, size):\n",
        "  result_property = search_property_similarity(query, pricing, bedrooms, bathrooms, size)\n",
        "  result_neighborhood = search_neighborhood_similarity(query, pricing, bedrooms, bathrooms, size)\n",
        "\n",
        "  combined_properties = {}\n",
        "\n",
        "  for i, prop_id in enumerate(result_property['ids'][0]):\n",
        "      combined_properties[prop_id] = {\n",
        "          'id': prop_id,\n",
        "          'description': result_property['documents'][0][i],\n",
        "          'distance_1': result_property['distances'][0][i],\n",
        "          'metadata': result_property['metadatas'][0][i]\n",
        "      }\n",
        "\n",
        "  for i, prop_id in enumerate(result_neighborhood['ids'][0]):\n",
        "      if prop_id in combined_properties:\n",
        "          combined_properties[prop_id]['neighborhood_description'] = result_neighborhood['documents'][0][i]\n",
        "          combined_properties[prop_id]['distance_2'] = result_neighborhood['distances'][0][i]\n",
        "          # Calculate average distance\n",
        "          d1 = combined_properties[prop_id]['distance_1']\n",
        "          d2 = result_neighborhood['distances'][0][i]\n",
        "          combined_properties[prop_id]['average_distance'] = (d1 + d2) / 2\n",
        "\n",
        "  return combined_properties\n",
        "\n",
        "def find_best_matching_property(best_matching_properties):\n",
        "  return min(best_matching_properties.values(), key=lambda x: x['average_distance'])"
      ],
      "metadata": {
        "id": "qqWkF1qx8MHH"
      },
      "execution_count": 14,
      "outputs": []
    },
    {
      "cell_type": "code",
      "source": [
        "# Test our defined functions\n",
        "best_matching_properties = find_best_matching_properties(buyer_notes, 3000, 3, 2, 2000)\n",
        "print(f\"Best matching properties:\\n{best_matching_properties}\")\n",
        "\n",
        "best_matching_property = find_best_matching_property(best_matching_properties)\n",
        "print(f\"Best matching property:\\n{best_matching_property}\")"
      ],
      "metadata": {
        "colab": {
          "base_uri": "https://localhost:8080/"
        },
        "id": "8Ul4aewEIaXs",
        "outputId": "1841a6f0-7975-4d1e-e40b-8c8480aa4a61"
      },
      "execution_count": 15,
      "outputs": [
        {
          "output_type": "stream",
          "name": "stdout",
          "text": [
            "Best matching properties:\n",
            "{'6': {'id': '6', 'description': 'Luxurious estate home in Hilltop Estates with spectacular mountain views. Featuring 5 bedrooms, each with en-suite baths, high ceilings, designer finishes, a gourmet kitchen with professional-grade appliances, and a home theater. Expansive patios and an infinity-edge pool make this property an entertainer’s dream. The gated community offers privacy and exclusivity.', 'distance_1': 0.869187593460083, 'metadata': {'bedrooms': 5, 'price': 2450000, 'neighborhood': 'Hilltop Estates', 'bathrooms': 5, 'house_size': 4300}, 'neighborhood_description': 'Hilltop Estates is an upscale, serene neighborhood perched on rolling hills with large lots and stunning vistas. Residents enjoy hiking trails, equestrian facilities, and close proximity to renowned private schools and fine dining.', 'distance_2': 1.0739542245864868, 'average_distance': 0.9715709090232849}, '2': {'id': '2', 'description': 'Stunning waterfront home in Seaside Cove featuring panoramic ocean views from every room. This elegant 4-bedroom, 3-bathroom property offers a gourmet kitchen with custom cabinetry, a sunroom, and an expansive deck perfect for watching sunsets. The master suite includes a spa-like bathroom and walk-in closet. Enjoy private beach access and a two-car garage.', 'distance_1': 1.0472670793533325, 'metadata': {'bathrooms': 3, 'bedrooms': 4, 'neighborhood': 'Seaside Cove', 'house_size': 2800, 'price': 1350000}, 'neighborhood_description': 'Seaside Cove is an exclusive coastal community prized for its beautiful beaches, quiet atmosphere, and outdoor recreational opportunities such as boating and hiking. Friendly neighbors and seasonal farmers’ markets add to the relaxed, upscale vibe.', 'distance_2': 1.2986745834350586, 'average_distance': 1.1729708313941956}, '4': {'id': '4', 'description': \"Modern family home in Crestview Meadows with 4 spacious bedrooms, 3 baths, and an open-concept living room that flows seamlessly into a chef's kitchen with stainless steel appliances and center island. The master bedroom suite comes with a walk-in closet and dual vanity bath. The fenced backyard includes a patio and mature landscaping, perfect for children and pets.\", 'distance_1': 1.093559980392456, 'metadata': {'bathrooms': 3, 'house_size': 2200, 'price': 620000, 'bedrooms': 4, 'neighborhood': 'Crestview Meadows'}, 'neighborhood_description': 'Crestview Meadows is a suburban enclave with top-rated schools, well-maintained parks, and recreational facilities. Its quiet streets and family-friendly atmosphere make it a sought-after locale for growing families looking for space and community.', 'distance_2': 1.2148830890655518, 'average_distance': 1.154221534729004}}\n",
            "Best matching property:\n",
            "{'id': '6', 'description': 'Luxurious estate home in Hilltop Estates with spectacular mountain views. Featuring 5 bedrooms, each with en-suite baths, high ceilings, designer finishes, a gourmet kitchen with professional-grade appliances, and a home theater. Expansive patios and an infinity-edge pool make this property an entertainer’s dream. The gated community offers privacy and exclusivity.', 'distance_1': 0.869187593460083, 'metadata': {'bedrooms': 5, 'price': 2450000, 'neighborhood': 'Hilltop Estates', 'bathrooms': 5, 'house_size': 4300}, 'neighborhood_description': 'Hilltop Estates is an upscale, serene neighborhood perched on rolling hills with large lots and stunning vistas. Residents enjoy hiking trails, equestrian facilities, and close proximity to renowned private schools and fine dining.', 'distance_2': 1.0739542245864868, 'average_distance': 0.9715709090232849}\n"
          ]
        }
      ]
    },
    {
      "cell_type": "markdown",
      "source": [
        "# 4. & 5. Criteria\n",
        "\n",
        "4. The project must demonstrate a logical flow where buyer preferences are used to search and then augment the description of real estate listings. The augmentation should personalize the listing without changing factual information.\n",
        "\n",
        "5. The submission must utilize an LLM to generate personalized descriptions for the real estate listings based on buyer preferences. The descriptions should be unique, appealing, and tailored to the preferences provided."
      ],
      "metadata": {
        "id": "d67Se8c_-3rG"
      }
    },
    {
      "cell_type": "markdown",
      "source": [
        "# Solve 4. & 5. critera"
      ],
      "metadata": {
        "id": "E3S1qv1y_B7V"
      }
    },
    {
      "cell_type": "code",
      "source": [
        "!pip install -q ipywidgets"
      ],
      "metadata": {
        "id": "jamMKJodhDvI",
        "colab": {
          "base_uri": "https://localhost:8080/"
        },
        "outputId": "d6798eb6-27e3-4d60-8a06-9de80a1e0433"
      },
      "execution_count": 16,
      "outputs": [
        {
          "output_type": "stream",
          "name": "stdout",
          "text": [
            "\u001b[?25l   \u001b[90m━━━━━━━━━━━━━━━━━━━━━━━━━━━━━━━━━━━━━━━━\u001b[0m \u001b[32m0.0/1.6 MB\u001b[0m \u001b[31m?\u001b[0m eta \u001b[36m-:--:--\u001b[0m\r\u001b[2K   \u001b[91m━━━━━━━━━━━━━━━━━━━━━━━━━━━━━━━━━━━━\u001b[0m\u001b[90m╺\u001b[0m\u001b[90m━━━\u001b[0m \u001b[32m1.4/1.6 MB\u001b[0m \u001b[31m43.0 MB/s\u001b[0m eta \u001b[36m0:00:01\u001b[0m\r\u001b[2K   \u001b[90m━━━━━━━━━━━━━━━━━━━━━━━━━━━━━━━━━━━━━━━━\u001b[0m \u001b[32m1.6/1.6 MB\u001b[0m \u001b[31m28.5 MB/s\u001b[0m eta \u001b[36m0:00:00\u001b[0m\n",
            "\u001b[?25h"
          ]
        }
      ]
    },
    {
      "cell_type": "code",
      "source": [
        "# Create a UI with ipywidgets\n",
        "import ipywidgets as widgets\n",
        "\n",
        "def create_range_dropdown(start, stop, step, label):\n",
        "  items = list(range(start, stop + 1, step))\n",
        "  options = [str(i) for i in items]\n",
        "  options.append(f\"{stop}+\")\n",
        "  return widgets.Dropdown(options=options, description=label)\n",
        "\n",
        "pricing_dropdown = create_range_dropdown(300000, 1200000, 100000, \"Pricing:\")\n",
        "\n",
        "bedroom_dropdown = widgets.Dropdown(options=[\"No preference\", \"1\", \"2\", \"3\", \"4\", \"5\", \"5+\"], description=\"Bedrooms:\")\n",
        "bathroom_dropdown = widgets.Dropdown(options=[\"No preference\", \"1\", \"2\", \"3\", \"4\", \"5\", \"5+\"], description=\"Bathrooms:\")\n",
        "\n",
        "size_dropdown = create_range_dropdown(800, 2000, 200, \"Size (sqft):\")\n",
        "\n",
        "notes_textarea = widgets.Textarea(\n",
        "  value='',\n",
        "  placeholder='Tell us anything else that matters to you — neighborhood vibes, home style, must-have amenities, or even dealbreakers!',\n",
        "  description='Notes:',\n",
        "  layout=widgets.Layout(width='500px', height='100px')\n",
        ")\n",
        "\n",
        "submit_button = widgets.Button(\n",
        "  description='Submit',\n",
        "  button_style='success',\n",
        ")\n",
        "\n",
        "output = widgets.Output()"
      ],
      "metadata": {
        "id": "ttNOf9USc5Wp"
      },
      "execution_count": 17,
      "outputs": []
    },
    {
      "cell_type": "code",
      "source": [
        "# Create a function that reacts on submit button\n",
        "from IPython.display import clear_output\n",
        "\n",
        "def on_submit_clicked(modify_listing):\n",
        "  if pricing_dropdown.value == \"1200000+\":\n",
        "    pricing = 1200001\n",
        "  else:\n",
        "    pricing = int(pricing_dropdown.value)\n",
        "\n",
        "  if bedroom_dropdown.value == \"No preference\":\n",
        "    bedrooms = 0\n",
        "  elif bedroom_dropdown.value == \"5+\":\n",
        "    bedrooms = 6\n",
        "  else:\n",
        "    bedrooms = int(bedroom_dropdown.value)\n",
        "\n",
        "  if bathroom_dropdown.value == \"No preference\":\n",
        "    bathrooms = 0\n",
        "  elif bathroom_dropdown.value == \"5+\":\n",
        "    bathrooms = 6\n",
        "  else:\n",
        "    bathrooms = int(bathroom_dropdown.value)\n",
        "\n",
        "  if size_dropdown.value == \"2000+\":\n",
        "    size = 2001\n",
        "  else:\n",
        "    size = int(size_dropdown.value)\n",
        "\n",
        "  best_matching_properties = find_best_matching_properties(\n",
        "      query=notes_textarea.value,\n",
        "      pricing=pricing,\n",
        "      bedrooms=bedrooms,\n",
        "      bathrooms=bathrooms,\n",
        "      size=size\n",
        "  )\n",
        "  best_matching_property = find_best_matching_property(best_matching_properties)\n",
        "\n",
        "  modified_listing = modify_listing(notes_textarea.value, best_matching_property)\n",
        "\n",
        "  with output:\n",
        "    clear_output()\n",
        "    print(modified_listing)"
      ],
      "metadata": {
        "id": "qf1w3WHPByqf"
      },
      "execution_count": 18,
      "outputs": []
    },
    {
      "cell_type": "code",
      "source": [
        "# Create a function that takes the best matching property\n",
        "# and returns a better description for the matching query\n",
        "\n",
        "def modify_listing(query, best_matching_property):\n",
        "  system_prompt = \"\"\"\n",
        "You are an experienced real estate agent with deep knowledge of property marketing and buyer psychology.\n",
        "Your role is to personalize real estate listings to better appeal to specific buyers based on their unique preferences and needs.\n",
        "\n",
        "When given a buyer query and a property listing (in JSON), modify the (property) **description** and the **neighborhood description**\n",
        "to better reflect what the buyer is looking for, while staying truthful to the facts.\n",
        "Highlight aspects of the listing that match the buyer's interests, downplay less relevant features,\n",
        "and adjust the tone and emphasis to suit the buyer’s style and priorities.\n",
        "\n",
        "- Focus on aligning features (e.g., layout, finishes, nearby amenities) with the buyer’s stated preferences.\n",
        "- If the buyer mentions lifestyle goals (e.g., “quiet place to work from home,” “kid-friendly,” “walkable”), reflect these in both the property and neighborhood descriptions.\n",
        "- Maintain a professional and engaging tone, as if writing the listing to personally attract the specific buyer.\n",
        "- Do **not** fabricate or exaggerate property features that are not mentioned in the original listing.\n",
        "- You are marketing the property through the lens of what matters most to the buyer.\n",
        "  \"\"\"\n",
        "\n",
        "  prompt = f\"\"\"\n",
        "**Buyer Query:**\n",
        "{query}\n",
        "\n",
        "**Original Listing (in JSON):**\n",
        "{best_matching_property}\n",
        "\n",
        "Please modify the (property) **description** and the **neighborhood description**\n",
        "to better reflect what the buyer is looking for, while staying truthful to the facts.\n",
        "\n",
        "Do return in Markdown! Not in a codeblock. Just in natural language in Markdown.\n",
        "  \"\"\"\n",
        "\n",
        "  response = client.chat.completions.create(\n",
        "    model=openai_model,\n",
        "    messages=[\n",
        "        {\"role\": \"system\", \"content\": system_prompt},\n",
        "        {\"role\": \"user\", \"content\": prompt}\n",
        "    ],\n",
        "  )\n",
        "\n",
        "  return response.choices[0].message.content"
      ],
      "metadata": {
        "id": "K2OKQz1xswkL"
      },
      "execution_count": 22,
      "outputs": []
    },
    {
      "cell_type": "code",
      "source": [
        "# Connect the button click\n",
        "submit_button.on_click(lambda _: on_submit_clicked(modify_listing))"
      ],
      "metadata": {
        "id": "furnn1Kgy2GU"
      },
      "execution_count": 20,
      "outputs": []
    },
    {
      "cell_type": "code",
      "source": [
        "# Display the UI :)\n",
        "from IPython.display import display\n",
        "\n",
        "display(\n",
        "    pricing_dropdown,\n",
        "    bedroom_dropdown,\n",
        "    bathroom_dropdown,\n",
        "    size_dropdown,\n",
        "    notes_textarea,\n",
        "    submit_button,\n",
        "    output\n",
        ")"
      ],
      "metadata": {
        "colab": {
          "base_uri": "https://localhost:8080/",
          "height": 464,
          "referenced_widgets": [
            "5da85f88031f4e7f9092c1400dbfc973",
            "d56c09d9c47f44bfa6f32a9af15e20f7",
            "5fd41fa76d744321b9436cbf3d84e6f4",
            "4f632824a7994ccab2fd476f52df6329",
            "a617b9ffce8b45d6b5359e4770f8a575",
            "5b3ff20112b642f1b8753744b329bc37",
            "f9a0690f8acf4f92b22ba0ebc62de75f",
            "0cc30028e8684141bb1a8d03369562f0",
            "78d7c01cfbd04155981aeaf13a81dab9",
            "f8db9b775ea44c77aabd6db12ec794df",
            "a45e5cd82bab4a4eac6b67db5d6090c3",
            "edff82f2c3704722ac051c69a0307c57",
            "abbee32352274048a68cd524bd8b88d3",
            "e2239a7cb5224ab495a9da7ac21a2fc0",
            "aafc92ba744d4e0897961917c37b9c44",
            "10b90189025d44bf925975ae95e73b90",
            "c6ab92da7f6d42c7b4b566eaf6896b24",
            "ae7e73d8d1b74bcc877b28a26bf3be63",
            "b9617830206448acb521ddea908b041f",
            "d9730e7cad35418a86e1e70a14f851e3"
          ]
        },
        "id": "AWiYQseEBkVz",
        "outputId": "9d51036e-ead9-4c81-f391-f5226086bee8"
      },
      "execution_count": 21,
      "outputs": [
        {
          "output_type": "display_data",
          "data": {
            "text/plain": [
              "Dropdown(description='Pricing:', options=('300000', '400000', '500000', '600000', '700000', '800000', '900000'…"
            ],
            "application/vnd.jupyter.widget-view+json": {
              "version_major": 2,
              "version_minor": 0,
              "model_id": "5da85f88031f4e7f9092c1400dbfc973"
            }
          },
          "metadata": {}
        },
        {
          "output_type": "display_data",
          "data": {
            "text/plain": [
              "Dropdown(description='Bedrooms:', options=('No preference', '1', '2', '3', '4', '5', '5+'), value='No preferen…"
            ],
            "application/vnd.jupyter.widget-view+json": {
              "version_major": 2,
              "version_minor": 0,
              "model_id": "4f632824a7994ccab2fd476f52df6329"
            }
          },
          "metadata": {}
        },
        {
          "output_type": "display_data",
          "data": {
            "text/plain": [
              "Dropdown(description='Bathrooms:', options=('No preference', '1', '2', '3', '4', '5', '5+'), value='No prefere…"
            ],
            "application/vnd.jupyter.widget-view+json": {
              "version_major": 2,
              "version_minor": 0,
              "model_id": "f9a0690f8acf4f92b22ba0ebc62de75f"
            }
          },
          "metadata": {}
        },
        {
          "output_type": "display_data",
          "data": {
            "text/plain": [
              "Dropdown(description='Size (sqft):', options=('800', '1000', '1200', '1400', '1600', '1800', '2000', '2000+'),…"
            ],
            "application/vnd.jupyter.widget-view+json": {
              "version_major": 2,
              "version_minor": 0,
              "model_id": "f8db9b775ea44c77aabd6db12ec794df"
            }
          },
          "metadata": {}
        },
        {
          "output_type": "display_data",
          "data": {
            "text/plain": [
              "Textarea(value='', description='Notes:', layout=Layout(height='100px', width='500px'), placeholder='Tell us an…"
            ],
            "application/vnd.jupyter.widget-view+json": {
              "version_major": 2,
              "version_minor": 0,
              "model_id": "abbee32352274048a68cd524bd8b88d3"
            }
          },
          "metadata": {}
        },
        {
          "output_type": "display_data",
          "data": {
            "text/plain": [
              "Button(button_style='success', description='Submit', style=ButtonStyle())"
            ],
            "application/vnd.jupyter.widget-view+json": {
              "version_major": 2,
              "version_minor": 0,
              "model_id": "10b90189025d44bf925975ae95e73b90"
            }
          },
          "metadata": {}
        },
        {
          "output_type": "display_data",
          "data": {
            "text/plain": [
              "Output()"
            ],
            "application/vnd.jupyter.widget-view+json": {
              "version_major": 2,
              "version_minor": 0,
              "model_id": "b9617830206448acb521ddea908b041f"
            }
          },
          "metadata": {}
        }
      ]
    }
  ]
}